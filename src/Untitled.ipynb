{
 "cells": [
  {
   "cell_type": "code",
   "execution_count": 74,
   "metadata": {
    "scrolled": true
   },
   "outputs": [],
   "source": [
    "import pandas as pd\n",
    "import datetime"
   ]
  },
  {
   "cell_type": "code",
   "execution_count": 58,
   "metadata": {},
   "outputs": [],
   "source": [
    "#df = pd.read_csv('./../log.csv', 'seq=[,/]')\n",
    "df = pd.read_csv(\"./../log.csv\", sep = \"[,/ ]\", engine='python')"
   ]
  },
  {
   "cell_type": "code",
   "execution_count": 132,
   "metadata": {},
   "outputs": [],
   "source": [
    "#カラム名をつける\n",
    "df.columns = ['time', 'IP', 'プレフィックス', 'ping']"
   ]
  },
  {
   "cell_type": "code",
   "execution_count": 60,
   "metadata": {},
   "outputs": [
    {
     "data": {
      "text/html": [
       "<div>\n",
       "<style scoped>\n",
       "    .dataframe tbody tr th:only-of-type {\n",
       "        vertical-align: middle;\n",
       "    }\n",
       "\n",
       "    .dataframe tbody tr th {\n",
       "        vertical-align: top;\n",
       "    }\n",
       "\n",
       "    .dataframe thead th {\n",
       "        text-align: right;\n",
       "    }\n",
       "</style>\n",
       "<table border=\"1\" class=\"dataframe\">\n",
       "  <thead>\n",
       "    <tr style=\"text-align: right;\">\n",
       "      <th></th>\n",
       "      <th>time</th>\n",
       "      <th>IP</th>\n",
       "      <th>プレフィックス</th>\n",
       "      <th>サブプレフィックス</th>\n",
       "    </tr>\n",
       "  </thead>\n",
       "  <tbody>\n",
       "    <tr>\n",
       "      <th>0</th>\n",
       "      <td>20201019133125</td>\n",
       "      <td>10.20.30.2</td>\n",
       "      <td>16</td>\n",
       "      <td>1</td>\n",
       "    </tr>\n",
       "    <tr>\n",
       "      <th>1</th>\n",
       "      <td>20201019133134</td>\n",
       "      <td>192.168.1.1</td>\n",
       "      <td>24</td>\n",
       "      <td>10</td>\n",
       "    </tr>\n",
       "    <tr>\n",
       "      <th>2</th>\n",
       "      <td>20201019133135</td>\n",
       "      <td>192.168.1.2</td>\n",
       "      <td>24</td>\n",
       "      <td>5</td>\n",
       "    </tr>\n",
       "    <tr>\n",
       "      <th>3</th>\n",
       "      <td>20201019133224</td>\n",
       "      <td>10.20.30.1</td>\n",
       "      <td>16</td>\n",
       "      <td>522</td>\n",
       "    </tr>\n",
       "    <tr>\n",
       "      <th>4</th>\n",
       "      <td>20201019133225</td>\n",
       "      <td>10.20.30.2</td>\n",
       "      <td>16</td>\n",
       "      <td>1</td>\n",
       "    </tr>\n",
       "    <tr>\n",
       "      <th>5</th>\n",
       "      <td>20201019133234</td>\n",
       "      <td>192.168.1.1</td>\n",
       "      <td>24</td>\n",
       "      <td>8</td>\n",
       "    </tr>\n",
       "    <tr>\n",
       "      <th>6</th>\n",
       "      <td>20201019133235</td>\n",
       "      <td>192.168.1.2</td>\n",
       "      <td>24</td>\n",
       "      <td>15</td>\n",
       "    </tr>\n",
       "    <tr>\n",
       "      <th>7</th>\n",
       "      <td>20201019133324</td>\n",
       "      <td>10.20.30.1</td>\n",
       "      <td>16</td>\n",
       "      <td>-</td>\n",
       "    </tr>\n",
       "    <tr>\n",
       "      <th>8</th>\n",
       "      <td>20201019133325</td>\n",
       "      <td>10.20.30.2</td>\n",
       "      <td>16</td>\n",
       "      <td>2</td>\n",
       "    </tr>\n",
       "  </tbody>\n",
       "</table>\n",
       "</div>"
      ],
      "text/plain": [
       "             time           IP  プレフィックス サブプレフィックス\n",
       "0  20201019133125   10.20.30.2       16         1\n",
       "1  20201019133134  192.168.1.1       24        10\n",
       "2  20201019133135  192.168.1.2       24         5\n",
       "3  20201019133224   10.20.30.1       16       522\n",
       "4  20201019133225   10.20.30.2       16         1\n",
       "5  20201019133234  192.168.1.1       24         8\n",
       "6  20201019133235  192.168.1.2       24        15\n",
       "7  20201019133324   10.20.30.1       16         -\n",
       "8  20201019133325   10.20.30.2       16         2"
      ]
     },
     "execution_count": 60,
     "metadata": {},
     "output_type": "execute_result"
    }
   ],
   "source": [
    "df"
   ]
  },
  {
   "cell_type": "code",
   "execution_count": 133,
   "metadata": {},
   "outputs": [
    {
     "name": "stdout",
     "output_type": "stream",
     "text": [
      "[7]\n"
     ]
    }
   ],
   "source": [
    "#故障したインデックスを探す\n",
    "failure_Index = df[df['ping']=='-'].index.tolist()\n",
    "print(failure_Index)"
   ]
  },
  {
   "cell_type": "code",
   "execution_count": 136,
   "metadata": {},
   "outputs": [
    {
     "name": "stdout",
     "output_type": "stream",
     "text": [
      "故障していたサーバは10.20.30.1/16で、サーバの故障期間は0:00:01です。\n"
     ]
    }
   ],
   "source": [
    "for i in failure_Index:\n",
    "    \n",
    "    if i < len(df.index)-1:\n",
    "         #故障した時間を取り出す\n",
    "        failure_time = str(df.iloc[i]['time'])\n",
    "        after_failuer_time = str(df.iloc[i+1]['time'])\n",
    "        \n",
    "        #print(type(before_failuer_time))\n",
    "    \n",
    "        \n",
    "        #故障したインデックスから時間を取り出す\n",
    "        #failure_time = failure_time.iloc[-1]\n",
    "        #before_failuer_time = before_failuer_time.iloc[-1]\n",
    "        \n",
    "        #時間の変換\n",
    "        #dte = dtetime.datetime.strptime('20201019133324', '%Y%m%d%H%M%S')\n",
    "        failure_time = datetime.datetime.strptime(failure_time, '%Y%m%d%H%M%S')\n",
    "        after_failuer_time = datetime.datetime.strptime(after_failuer_time, '%Y%m%d%H%M%S')\n",
    "        \n",
    "        \n",
    "        #print(failure_time, after_failuer_time)\n",
    "        \n",
    "        not_signal_time = after_failuer_time - failure_time\n",
    "        \n",
    "        server1 = df.iloc[i]['IP'] \n",
    "        server2 = df.iloc[i]['プレフィックス'] \n",
    "        \n",
    "        server = str(server1) + '/' +str(server2) \n",
    "        \n",
    "        print(f'故障していたサーバは{server}で、サーバの故障期間は{not_signal_time}です。')\n",
    "\n",
    "    else:\n",
    "        print('まだ結果がない')\n",
    "        pass"
   ]
  },
  {
   "cell_type": "code",
   "execution_count": 72,
   "metadata": {},
   "outputs": [],
   "source": [
    "failure_time = failure_time.iloc[-1]"
   ]
  },
  {
   "cell_type": "code",
   "execution_count": 73,
   "metadata": {},
   "outputs": [
    {
     "data": {
      "text/plain": [
       "20201019133324"
      ]
     },
     "execution_count": 73,
     "metadata": {},
     "output_type": "execute_result"
    }
   ],
   "source": [
    "failure_time"
   ]
  },
  {
   "cell_type": "code",
   "execution_count": null,
   "metadata": {},
   "outputs": [],
   "source": []
  }
 ],
 "metadata": {
  "kernelspec": {
   "display_name": "Python 3",
   "language": "python",
   "name": "python3"
  },
  "language_info": {
   "codemirror_mode": {
    "name": "ipython",
    "version": 3
   },
   "file_extension": ".py",
   "mimetype": "text/x-python",
   "name": "python",
   "nbconvert_exporter": "python",
   "pygments_lexer": "ipython3",
   "version": "3.6.9"
  }
 },
 "nbformat": 4,
 "nbformat_minor": 4
}
